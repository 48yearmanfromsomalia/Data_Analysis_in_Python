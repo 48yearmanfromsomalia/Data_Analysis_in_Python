{
 "cells": [
  {
   "cell_type": "markdown",
   "metadata": {},
   "source": [
    "# <center> Hello, World </center>\n",
    "\n",
    "![ ](https://sdtimes.com/wp-content/uploads/2019/07/green-tree-python-1014229_640-490x326.jpg)\n",
    "\n",
    "Did you know that Python was not named after this cute reptile?\n",
    "\n",
    "*'When he began implementing Python, Guido van Rossum [the creator of the Python] was also reading the published scripts from “Monty Python's Flying Circus”, a BBC comedy series from the 1970s. Van Rossum thought he needed a name that was short, unique, and slightly mysterious, so he decided to call the language Python'.* [Python FAQ](https://docs.python.org/3/faq/general.html)\n",
    "\n",
    "Some useful links, so you can recall the material, or find out what you did not know:\n",
    "\n",
    "1. **Python documentation** https://docs.python.org/3/\n",
    "2. **Python official and very long tutorial** https://docs.python.org/3/tutorial/ However, you will find all the information you need in our course there. I recommend to pay attention only to the chapters: 3. Informal Introduction to Python - 9. Classes.\n",
    "\n",
    "Estimated reading time for tutorial's selected chapters: 3-5 hours. Solid Python programming skills - priceless. "
   ]
  },
  {
   "cell_type": "code",
   "execution_count": null,
   "metadata": {},
   "outputs": [],
   "source": [
    "import this"
   ]
  },
  {
   "cell_type": "markdown",
   "metadata": {},
   "source": [
    "# Preliminaries. Fancy use of Jupyter Notebook"
   ]
  },
  {
   "cell_type": "markdown",
   "metadata": {},
   "source": [
    "Here is a [cheat sheet](https://medium.com/edureka/jupyter-notebook-cheat-sheet-88f60d1aca7) on Jupyter Notebook. Take a look at the menu bar first. Make sure you know how to find the key operations in File: Open, Make a Copy, Save as, Rename, Download as.\n",
    "On the bottom bar - check that you remember how to:\n",
    "* **Save the current version of the notebook** (floppy disk icon). If you've been working in your notebook for too long, it's better to click on this icon and save a checkpoint (= an intermediate version of your file). Otherwise, if something goes wrong (connection is lost, your notebook hovers because can't execute your beautiful code anymore, or for any other reason when the universe creates new obstacles for you), your code will not be saved and will be lost. **Shortcut: Ctrl + S / Command + S**\n",
    "\n",
    "* **Add a new cell** (plus icon). Don't code everything in one cell, organize and decompose it. **Shortcuts: Add a cell above: Ctrl + A / Command + A. Add a cell bellow: Ctrl + B / Command + B**\n",
    "\n",
    "* Run a cell (this button is even named there for you). **Shortcut: Shift + Enter**\n",
    "\n",
    "* Delete a cell. **Shortcut: D, D** - double click on D in a command mode.\n",
    "\n",
    "* Interrupt the notebook (black square icon) and restart (circular arrow). In most cases, you use it if: 1) you forgot or did nor realize that your cell's output is too long and heavy to display; 2) you wrote something wrong, for instance, an infinite loop that never ends. **Shortcut to interupt the kernel: I, I** - double-click on the letter I. \n",
    "\n",
    "* Switch to markdown (code cell -> text cell) **M** in command mode or in the menu panel above. If you want to add titles or descriptions to your code, it's better to use markdown instead of the comments (#). \n",
    "\n",
    "! Before using the shortcuts, you need to click somewhere inside the notebook but outside the gray cells for coding/markdown. This is how you activate command mode. An alternative option is to enter the command mode (if you're currently in a gray code cell) - press Esc on your keyboard."
   ]
  },
  {
   "cell_type": "markdown",
   "metadata": {},
   "source": [
    "## Table of Contents\n",
    "1. [Print](#print)\n",
    "2. [Data types](#datatypes)\n",
    "\n",
    "## Print <a name=\"print\"></a>\n",
    "print( ) is a function in Python3. It prints objects to the text stream file, separated by *sep* and followed by *end*. "
   ]
  },
  {
   "cell_type": "code",
   "execution_count": null,
   "metadata": {},
   "outputs": [],
   "source": [
    "# output returns a string \n"
   ]
  },
  {
   "cell_type": "code",
   "execution_count": null,
   "metadata": {},
   "outputs": [],
   "source": [
    "# output returns the result of print () function\n"
   ]
  },
  {
   "cell_type": "code",
   "execution_count": null,
   "metadata": {},
   "outputs": [],
   "source": [
    "# compare these data types using type()\n"
   ]
  },
  {
   "cell_type": "markdown",
   "metadata": {},
   "source": [
    "This is because print( ) displays the output as you requested, but does not store it, and its type is NoneType.\n",
    "\n",
    "Why are we using print( )?\n",
    "This is useful if you want to see the output of the code above the last line:"
   ]
  },
  {
   "cell_type": "code",
   "execution_count": null,
   "metadata": {},
   "outputs": [],
   "source": [
    "# \\n - new line\n",
    "'If you are a nerd, \\n'\n",
    "print('Python is easy')"
   ]
  },
  {
   "cell_type": "markdown",
   "metadata": {},
   "source": [
    "Only the last line is printed. What if we want both of them out? Now change the place for print ():"
   ]
  },
  {
   "cell_type": "code",
   "execution_count": null,
   "metadata": {},
   "outputs": [],
   "source": [
    "print('If you are a nerd,')\n",
    "'Python is easy'"
   ]
  },
  {
   "cell_type": "code",
   "execution_count": null,
   "metadata": {},
   "outputs": [],
   "source": [
    "# make sure you understand every character on that line\n",
    "# we have 2 arguments (two string lines) in print()\n",
    "print('And I think to myself', 'what a wonderful world', sep='\\n', end='!')"
   ]
  },
  {
   "cell_type": "markdown",
   "metadata": {},
   "source": [
    "*Sep* = separator; character separating arguments inside the print() function.\n",
    "\n",
    "*End* - you can add characters at the end of your last argument in print( )."
   ]
  },
  {
   "cell_type": "markdown",
   "metadata": {},
   "source": [
    "[Show me more on print!](https://realpython.com/python-print/)"
   ]
  },
  {
   "cell_type": "markdown",
   "metadata": {},
   "source": [
    "## Data types <a name=\"datatypes\"></a>"
   ]
  },
  {
   "cell_type": "markdown",
   "metadata": {},
   "source": [
    "The main types of numbers: **integer** (int), **float**. https://docs.python.org/3/tutorial/introduction.html#numbers"
   ]
  },
  {
   "cell_type": "code",
   "execution_count": null,
   "metadata": {},
   "outputs": [],
   "source": [
    "# string\n"
   ]
  },
  {
   "cell_type": "code",
   "execution_count": null,
   "metadata": {},
   "outputs": [],
   "source": [
    "# integer"
   ]
  },
  {
   "cell_type": "code",
   "execution_count": null,
   "metadata": {},
   "outputs": [],
   "source": [
    "# float "
   ]
  },
  {
   "cell_type": "code",
   "execution_count": null,
   "metadata": {},
   "outputs": [],
   "source": [
    "# float with a remainder into integer\n"
   ]
  },
  {
   "cell_type": "markdown",
   "metadata": {},
   "source": [
    "Wait a minute, where is a remainder?"
   ]
  },
  {
   "cell_type": "code",
   "execution_count": null,
   "metadata": {},
   "outputs": [],
   "source": [
    "# mathematical rounding\n"
   ]
  },
  {
   "cell_type": "markdown",
   "metadata": {},
   "source": [
    "Converting a floating point number to an integer is not equal to mathematical rounding."
   ]
  },
  {
   "cell_type": "code",
   "execution_count": null,
   "metadata": {},
   "outputs": [],
   "source": [
    "# the absolute value\n"
   ]
  },
  {
   "cell_type": "markdown",
   "metadata": {},
   "source": [
    "**Arithmetical operations**"
   ]
  },
  {
   "cell_type": "code",
   "execution_count": null,
   "metadata": {},
   "outputs": [],
   "source": [
    "# addition"
   ]
  },
  {
   "cell_type": "markdown",
   "metadata": {},
   "source": [
    "**Task**! Write a command using print(), it should return in the output 'Sum: 2 + 2 = 4', where 4 is calculated from 2 + 2 (e.g. not stated as a string '4')."
   ]
  },
  {
   "cell_type": "code",
   "execution_count": 11,
   "metadata": {},
   "outputs": [
    {
     "name": "stdout",
     "output_type": "stream",
     "text": [
      "Sum: 2 + 2 = 4\n"
     ]
    }
   ],
   "source": [
    "# TODO\n"
   ]
  },
  {
   "cell_type": "code",
   "execution_count": null,
   "metadata": {},
   "outputs": [],
   "source": [
    "print( 'Subtraction: 2 - 2 =', 2 - 2, \n",
    "      '\\nDevision: 11 / 5 =', 11 / 5,\n",
    "      '\\nInteger devision: 11 // 5 =', 11 // 5,\n",
    "      '\\nMultiplication: 2 * 3 =', 2 * 3,\n",
    "      '\\nPower: 2 ** 3 =', 2 ** 3,\n",
    "      '\\nRemainder of division: 41 % 10 =', 41 % 10,\n",
    "      sep=' ')"
   ]
  },
  {
   "cell_type": "markdown",
   "metadata": {},
   "source": [
    "For text data we use **strings**. https://docs.python.org/3/tutorial/introduction.html#strings"
   ]
  },
  {
   "cell_type": "code",
   "execution_count": null,
   "metadata": {},
   "outputs": [],
   "source": [
    "profession = 'Fashion'\n",
    "\n",
    "print(profession, 'is my profession.')\n",
    "type(profession)"
   ]
  },
  {
   "cell_type": "markdown",
   "metadata": {},
   "source": [
    "**Bool** https://realpython.com/python-boolean/"
   ]
  },
  {
   "cell_type": "code",
   "execution_count": null,
   "metadata": {},
   "outputs": [],
   "source": [
    "type(True)"
   ]
  },
  {
   "cell_type": "code",
   "execution_count": null,
   "metadata": {},
   "outputs": [],
   "source": [
    "True or False"
   ]
  },
  {
   "cell_type": "code",
   "execution_count": null,
   "metadata": {},
   "outputs": [],
   "source": [
    "# True = 1, False = 0\n",
    "1 or 0"
   ]
  },
  {
   "cell_type": "code",
   "execution_count": null,
   "metadata": {},
   "outputs": [],
   "source": [
    "True and False"
   ]
  },
  {
   "cell_type": "code",
   "execution_count": null,
   "metadata": {
    "scrolled": true
   },
   "outputs": [],
   "source": [
    "# = means to store the value (5) with a pointer ('number') variable in memory\n",
    "number = 5\n",
    "\n",
    "# == means 'equal to' and returns True or False\n",
    "number == 5"
   ]
  },
  {
   "cell_type": "markdown",
   "metadata": {},
   "source": [
    "!= means 'not equal to'"
   ]
  },
  {
   "cell_type": "code",
   "execution_count": null,
   "metadata": {},
   "outputs": [],
   "source": [
    "number != 5"
   ]
  },
  {
   "cell_type": "code",
   "execution_count": null,
   "metadata": {},
   "outputs": [],
   "source": [
    "number <= 5"
   ]
  },
  {
   "cell_type": "markdown",
   "metadata": {},
   "source": [
    "**Task!** Let's recall our formula on final grade for this course. \n",
    "\n",
    "Final grade = $0.4 \\cdot$ home assignments + $0.3 \\cdot$ group project + $0.2 \\cdot$ in-class assignments + $0.1 \\cdot$ in-class participation\n",
    "\n",
    "1. Calculate a final grade for a student, who received 7 for home assignments, 9 for a group project, 10 for in-class assignments and 6 for in-class participation."
   ]
  },
  {
   "cell_type": "code",
   "execution_count": null,
   "metadata": {},
   "outputs": [],
   "source": [
    "# YOUR CODE HERE"
   ]
  },
  {
   "cell_type": "markdown",
   "metadata": {},
   "source": [
    "2. Calculate a final grade for a student, who received 7,6,7,8,5,10,9,10 for home assignments, 9 for a group project, \n",
    "10 and 8 for in-class assignments and 6 for in-class participation. Use normalization to 10 points grade for each of 4 forms of activity. \n",
    "Use mathematical rounding. "
   ]
  },
  {
   "cell_type": "code",
   "execution_count": null,
   "metadata": {},
   "outputs": [],
   "source": []
  }
 ],
 "metadata": {
  "kernelspec": {
   "display_name": "Python 3",
   "language": "python",
   "name": "python3"
  },
  "language_info": {
   "codemirror_mode": {
    "name": "ipython",
    "version": 3
   },
   "file_extension": ".py",
   "mimetype": "text/x-python",
   "name": "python",
   "nbconvert_exporter": "python",
   "pygments_lexer": "ipython3",
   "version": "3.8.3"
  }
 },
 "nbformat": 4,
 "nbformat_minor": 2
}
