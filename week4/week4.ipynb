{
 "cells": [
  {
   "cell_type": "markdown",
   "metadata": {},
   "source": [
    "# <center> Data structures. Part 2 </center>"
   ]
  },
  {
   "cell_type": "markdown",
   "metadata": {},
   "source": [
    "**DIctionaries**"
   ]
  },
  {
   "cell_type": "markdown",
   "metadata": {},
   "source": [
    "A dictionary is an unordered structure, it consists of keys and values. We cannot refer to the object by index, but we can refer to the key."
   ]
  },
  {
   "cell_type": "code",
   "execution_count": 1,
   "metadata": {},
   "outputs": [],
   "source": [
    "president = {\n",
    "  \"name\": \"Uknown\",\n",
    "  \"age\": 78,\n",
    "  \"political party\": 'Democratic',\n",
    "  \"children\" : ['Hunter', 'Beau', 'Ashley', 'Naomi Christina']\n",
    "}"
   ]
  },
  {
   "cell_type": "markdown",
   "metadata": {},
   "source": [
    "We cannot refer to the object by index, but we can refer to the key:"
   ]
  },
  {
   "cell_type": "code",
   "execution_count": 2,
   "metadata": {},
   "outputs": [
    {
     "ename": "KeyError",
     "evalue": "0",
     "output_type": "error",
     "traceback": [
      "\u001b[0;31m---------------------------------------------------------------------------\u001b[0m",
      "\u001b[0;31mKeyError\u001b[0m                                  Traceback (most recent call last)",
      "\u001b[0;32m<ipython-input-2-f09549abea28>\u001b[0m in \u001b[0;36m<module>\u001b[0;34m\u001b[0m\n\u001b[0;32m----> 1\u001b[0;31m \u001b[0mpresident\u001b[0m\u001b[0;34m[\u001b[0m\u001b[0;36m0\u001b[0m\u001b[0;34m]\u001b[0m\u001b[0;34m\u001b[0m\u001b[0;34m\u001b[0m\u001b[0m\n\u001b[0m",
      "\u001b[0;31mKeyError\u001b[0m: 0"
     ]
    }
   ],
   "source": [
    "president[0]"
   ]
  },
  {
   "cell_type": "code",
   "execution_count": 3,
   "metadata": {},
   "outputs": [
    {
     "data": {
      "text/plain": [
       "78"
      ]
     },
     "execution_count": 3,
     "metadata": {},
     "output_type": "execute_result"
    }
   ],
   "source": [
    "president['age']"
   ]
  },
  {
   "cell_type": "markdown",
   "metadata": {},
   "source": [
    "To find out what keys or values are in the dictionary, you can use the corresponding methods."
   ]
  },
  {
   "cell_type": "code",
   "execution_count": 4,
   "metadata": {},
   "outputs": [
    {
     "data": {
      "text/plain": [
       "dict_keys(['name', 'age', 'political party', 'children'])"
      ]
     },
     "execution_count": 4,
     "metadata": {},
     "output_type": "execute_result"
    }
   ],
   "source": [
    "president.keys()"
   ]
  },
  {
   "cell_type": "code",
   "execution_count": 5,
   "metadata": {},
   "outputs": [
    {
     "data": {
      "text/plain": [
       "dict_values(['Uknown', 78, 'Democratic', ['Hunter', 'Beau', 'Ashley', 'Naomi Christina']])"
      ]
     },
     "execution_count": 5,
     "metadata": {},
     "output_type": "execute_result"
    }
   ],
   "source": [
    "president.values()"
   ]
  },
  {
   "cell_type": "code",
   "execution_count": 6,
   "metadata": {},
   "outputs": [
    {
     "data": {
      "text/plain": [
       "dict_items([('name', 'Uknown'), ('age', 78), ('political party', 'Democratic'), ('children', ['Hunter', 'Beau', 'Ashley', 'Naomi Christina'])])"
      ]
     },
     "execution_count": 6,
     "metadata": {},
     "output_type": "execute_result"
    }
   ],
   "source": [
    "president.items()"
   ]
  },
  {
   "cell_type": "code",
   "execution_count": 7,
   "metadata": {},
   "outputs": [
    {
     "name": "stdout",
     "output_type": "stream",
     "text": [
      "key: name - value: Uknown\n",
      "key: age - value: 78\n",
      "key: political party - value: Democratic\n",
      "key: children - value: ['Hunter', 'Beau', 'Ashley', 'Naomi Christina']\n"
     ]
    }
   ],
   "source": [
    "for key, value in president.items():\n",
    "    print('key:', key, '- value:', value)"
   ]
  },
  {
   "cell_type": "code",
   "execution_count": 8,
   "metadata": {},
   "outputs": [
    {
     "name": "stdout",
     "output_type": "stream",
     "text": [
      "name\n",
      "age\n",
      "political party\n",
      "children\n"
     ]
    }
   ],
   "source": [
    "for key in president:\n",
    "    print(key)"
   ]
  },
  {
   "cell_type": "markdown",
   "metadata": {},
   "source": [
    "Adding key-value pairs to a dictionary is very simple, like replacing a value by index in lists. The deletion is done using the ```del``` function. We can also check the presence of the key in the dictionary."
   ]
  },
  {
   "cell_type": "code",
   "execution_count": 9,
   "metadata": {},
   "outputs": [
    {
     "name": "stdout",
     "output_type": "stream",
     "text": [
      "{'name': 'Joe Biden', 'age': 78, 'political party': 'Democratic', 'children': ['Hunter', 'Beau', 'Ashley', 'Naomi Christina'], 'place of birth': 'Scranton, Pennsylvania, U.S.', 'education': ['University of Delaware (BA)', 'Syracuse University (JD)']}\n"
     ]
    }
   ],
   "source": [
    "president['place of birth'] = 'Scranton, Pennsylvania, U.S.' # new key and value\n",
    "president['education'] = ['University of Delaware (BA)','Syracuse University (JD)']\n",
    "president['name'] = 'Joe Biden'  # overwrite the value in existing key\n",
    "print(president)"
   ]
  },
  {
   "cell_type": "code",
   "execution_count": 10,
   "metadata": {},
   "outputs": [
    {
     "name": "stdout",
     "output_type": "stream",
     "text": [
      "{'name': 'Joe Biden', 'age': 78, 'political party': 'Democratic', 'place of birth': 'Scranton, Pennsylvania, U.S.', 'education': ['University of Delaware (BA)', 'Syracuse University (JD)']}\n"
     ]
    }
   ],
   "source": [
    "del president['children']\n",
    "print(president)"
   ]
  },
  {
   "cell_type": "code",
   "execution_count": 11,
   "metadata": {},
   "outputs": [
    {
     "data": {
      "text/plain": [
       "True"
      ]
     },
     "execution_count": 11,
     "metadata": {},
     "output_type": "execute_result"
    }
   ],
   "source": [
    "'place of birth' in president # is 'place of birth' among keys?"
   ]
  },
  {
   "cell_type": "markdown",
   "metadata": {},
   "source": [
    "**Sets**"
   ]
  },
  {
   "cell_type": "markdown",
   "metadata": {},
   "source": [
    "<img src=\"https://www.learnbyexample.org/wp-content/uploads/python/Python-Set-Operatioons.png\" height=300 width=300>"
   ]
  },
  {
   "cell_type": "code",
   "execution_count": 12,
   "metadata": {},
   "outputs": [],
   "source": [
    "european_union = {\"Austria\", \"Belgium\", \"Bulgaria\", \"Croatia\", \"Cyprus\", \"Czech Republic\", \"Denmark\",\n",
    "    \"Estonia\", \"Finland\", \"France\", \"Germany\", \"Greece\", \"Hungary\", \"Ireland\", \"Italy\", \"Latvia\", \n",
    "    \"Lithuania\", \"Luxembourg\", \"Malta\", \"Netherlands\", \"Poland\", \"Portugal\", \"Romania\", \n",
    "    \"Slovakia\", \"Slovenia\", \"Spain\", \"Sweden\"}\n",
    "\n",
    "eurozone = {\"Austria\", \"Belgium\", \"Cyprus\", \"Portugal\", \"Spain\", \n",
    "            \"Slovakia\", \"Slovenia\", \"Ireland\", \"Italy\", \"France\", \"Germany\", \"Greece\",\n",
    "            \"Estonia\", \"Finland\", \"Latvia\", \"Lithuania\", \"Luxembourg\", \"Malta\", \"Netherlands\"}"
   ]
  },
  {
   "cell_type": "code",
   "execution_count": 13,
   "metadata": {},
   "outputs": [
    {
     "name": "stdout",
     "output_type": "stream",
     "text": [
      "{'Sweden', 'Slovenia', 'Croatia', 'Poland', 'Denmark', 'Czech Republic', 'Latvia', 'Ireland', 'Netherlands', 'France', 'Bulgaria', 'Finland', 'Italy', 'Malta', 'Estonia', 'Greece', 'Belgium', 'Cyprus', 'Portugal', 'Spain', 'Luxembourg', 'Austria', 'Romania', 'Germany', 'Hungary', 'Slovakia', 'Lithuania'}\n",
      "{'Slovenia', 'Latvia', 'Ireland', 'Netherlands', 'France', 'Finland', 'Italy', 'Estonia', 'Malta', 'Greece', 'Belgium', 'Cyprus', 'Portugal', 'Spain', 'Luxembourg', 'Austria', 'Germany', 'Slovakia', 'Lithuania'}\n",
      "{'Sweden', 'Bulgaria', 'Croatia', 'Poland', 'Denmark', 'Czech Republic', 'Romania', 'Hungary'}\n",
      "{'Sweden', 'Bulgaria', 'Croatia', 'Poland', 'Denmark', 'Czech Republic', 'Romania', 'Hungary'}\n"
     ]
    }
   ],
   "source": [
    "print(european_union | eurozone)  # union of sets -- we join all unique names from two sets together\n",
    "print(european_union & eurozone)  # intersection -- keep the elements that are in both sets\n",
    "print(european_union - eurozone)  # difference -- elements in the first set, but not in the second\n",
    "print(european_union ^ eurozone)  # symmetric difference -- elements from A | B, but not from A & B"
   ]
  },
  {
   "cell_type": "markdown",
   "metadata": {},
   "source": [
    "Instead of signs as operators you can use methods:"
   ]
  },
  {
   "cell_type": "code",
   "execution_count": 14,
   "metadata": {},
   "outputs": [
    {
     "name": "stdout",
     "output_type": "stream",
     "text": [
      "{'Sweden', 'Slovenia', 'Croatia', 'Poland', 'Denmark', 'Czech Republic', 'Latvia', 'Ireland', 'Netherlands', 'France', 'Bulgaria', 'Finland', 'Italy', 'Malta', 'Estonia', 'Greece', 'Belgium', 'Cyprus', 'Portugal', 'Spain', 'Luxembourg', 'Austria', 'Romania', 'Germany', 'Hungary', 'Slovakia', 'Lithuania'}\n",
      "{'Slovenia', 'Latvia', 'Ireland', 'Netherlands', 'France', 'Finland', 'Italy', 'Estonia', 'Malta', 'Greece', 'Belgium', 'Cyprus', 'Portugal', 'Spain', 'Luxembourg', 'Austria', 'Germany', 'Slovakia', 'Lithuania'}\n",
      "{'Sweden', 'Bulgaria', 'Croatia', 'Poland', 'Denmark', 'Czech Republic', 'Romania', 'Hungary'}\n",
      "{'Sweden', 'Bulgaria', 'Croatia', 'Poland', 'Denmark', 'Czech Republic', 'Romania', 'Hungary'}\n"
     ]
    }
   ],
   "source": [
    "print(european_union.union(eurozone))\n",
    "print(european_union.intersection(eurozone))\n",
    "print(european_union.difference(eurozone))\n",
    "print(european_union.symmetric_difference(eurozone))"
   ]
  },
  {
   "cell_type": "markdown",
   "metadata": {},
   "source": [
    "Summing up the properties. **Ordered** means that Python stores elements in the same order you specified when you created it. **Mutable** means that we can change the elements, for example, to replace one of the elements with a new value. **Constructor** demonstrates how to create, represent and store each data type. Note the difference in brackets."
   ]
  },
  {
   "cell_type": "markdown",
   "metadata": {},
   "source": [
    "<img src=\"https://miro.medium.com/max/1400/1*Det-kkoSw9T4IZ4XrypVNQ.png\" style=\"width:700px;height:300px\"/>"
   ]
  },
  {
   "cell_type": "markdown",
   "metadata": {},
   "source": [
    "### Strings\n",
    "\n",
    "The key operations: concatenation, split, join and extending string with its duplicates by *N* times. "
   ]
  },
  {
   "cell_type": "code",
   "execution_count": 68,
   "metadata": {
    "scrolled": true
   },
   "outputs": [
    {
     "name": "stdout",
     "output_type": "stream",
     "text": [
      "Dear students, welcome to the course on Data Analysis!\n"
     ]
    }
   ],
   "source": [
    "greeting = 'welcome to the course on Data Analysis!'\n",
    "\n",
    "whom = 'Dear students, '\n",
    "\n",
    "# concatenation\n",
    "print(whom + greeting)"
   ]
  },
  {
   "cell_type": "code",
   "execution_count": 69,
   "metadata": {},
   "outputs": [
    {
     "name": "stdout",
     "output_type": "stream",
     "text": [
      "You will need to work very very very very very  hard...\n"
     ]
    }
   ],
   "source": [
    "# repeat by mulyiplicator\n",
    "print('You will need to work', 'very ' * 5, 'hard...')"
   ]
  },
  {
   "cell_type": "code",
   "execution_count": 70,
   "metadata": {},
   "outputs": [
    {
     "name": "stdout",
     "output_type": "stream",
     "text": [
      "False\n"
     ]
    }
   ],
   "source": [
    "# string starts with\n",
    "print(greeting.startswith('Chilling'))"
   ]
  },
  {
   "cell_type": "code",
   "execution_count": 71,
   "metadata": {},
   "outputs": [
    {
     "name": "stdout",
     "output_type": "stream",
     "text": [
      "True\n",
      "True\n"
     ]
    }
   ],
   "source": [
    "# string ends with\n",
    "print(greeting.endswith('sis!'))\n",
    "print('Recheck it'.endswith('t'))"
   ]
  },
  {
   "cell_type": "code",
   "execution_count": 72,
   "metadata": {},
   "outputs": [
    {
     "name": "stdout",
     "output_type": "stream",
     "text": [
      "['You need', 'to split this', 'sentence into four parts', 'by underscore sign.']\n"
     ]
    }
   ],
   "source": [
    "# split\n",
    "text_line = 'You need_to split this_sentence into four parts_by underscore sign.'\n",
    "print(text_line.split('_'))"
   ]
  },
  {
   "cell_type": "code",
   "execution_count": 73,
   "metadata": {},
   "outputs": [
    {
     "data": {
      "text/plain": [
       "'You*need*to*join*this*sentence*by*asterisks*instead*of*white*spaces.'"
      ]
     },
     "execution_count": 73,
     "metadata": {},
     "output_type": "execute_result"
    }
   ],
   "source": [
    "# join\n",
    "text_line = 'You need to join this sentence by asterisks instead of white spaces.'\n",
    "'*'.join(text_line.split(' '))"
   ]
  },
  {
   "cell_type": "markdown",
   "metadata": {},
   "source": [
    "The find( ) method returns the index of the first character of the first occurrence of the substring, if contained in the string. If there is no such substring, it returns -1."
   ]
  },
  {
   "cell_type": "code",
   "execution_count": 74,
   "metadata": {},
   "outputs": [
    {
     "data": {
      "text/plain": [
       "159"
      ]
     },
     "execution_count": 74,
     "metadata": {},
     "output_type": "execute_result"
    }
   ],
   "source": [
    "# find\n",
    "\n",
    "prologue = '''The morning had dawned clear and cold, with a crispness that hinted at\n",
    "the end of summer. They set forth at daybreak to see a man beheaded, twenty in all, and\n",
    "Bran rode among them, nervous with excitement. This was the first time he had been deemed\n",
    "old enough to go with his lord father and his brothers to see the king’s justice done. It was\n",
    "the ninth year of summer, and the seventh of Bran’s life'''\n",
    "\n",
    "prologue.find('Bran')"
   ]
  },
  {
   "cell_type": "markdown",
   "metadata": {},
   "source": [
    "The name 'Bran' was found and 159 is the index of the first letter of this word in a string 'prologue'. "
   ]
  },
  {
   "cell_type": "code",
   "execution_count": 75,
   "metadata": {},
   "outputs": [
    {
     "name": "stdout",
     "output_type": "stream",
     "text": [
      "Bran rode among them, nervous with excitement. This was the first time he had been deemed\n",
      "old enough to go with his lord father and his brothers to see the king’s justice done. It was\n",
      "the ninth year of summer, and the seventh of Bran’s life\n"
     ]
    }
   ],
   "source": [
    "print(prologue[prologue.find('Bran'):]) # prints the whole string starting from 'Bran'"
   ]
  },
  {
   "cell_type": "code",
   "execution_count": 76,
   "metadata": {},
   "outputs": [
    {
     "name": "stdout",
     "output_type": "stream",
     "text": [
      "Bran\n"
     ]
    }
   ],
   "source": [
    "print(prologue[prologue.find('Bran'):prologue.find(' rode')]) #slicing"
   ]
  },
  {
   "cell_type": "markdown",
   "metadata": {},
   "source": [
    "Let's make a simple version of sentiment analysis from scratch. If the review contains the word 'bad', then we will write that this is a negative review."
   ]
  },
  {
   "cell_type": "code",
   "execution_count": 77,
   "metadata": {},
   "outputs": [
    {
     "name": "stdout",
     "output_type": "stream",
     "text": [
      "This place was bad enough.\n",
      "Feedback is negative\n"
     ]
    }
   ],
   "source": [
    "feedback = 'This place was bad enough.'\n",
    "\n",
    "print(feedback)\n",
    "if feedback.find('bad') == -1: # if 'bad' not found\n",
    "    print('Feedback is not negative')\n",
    "else:\n",
    "    print('Feedback is negative')"
   ]
  },
  {
   "cell_type": "code",
   "execution_count": 78,
   "metadata": {},
   "outputs": [
    {
     "data": {
      "text/plain": [
       "'I take you, Rachel, to be my wife.I promise to be true to you in good times and in bad, in sickness and in health.I will love you and honour you all the days of my life.'"
      ]
     },
     "execution_count": 78,
     "metadata": {},
     "output_type": "execute_result"
    }
   ],
   "source": [
    "# replace\n",
    "statement = '''I take you, Monica, to be my wife.\\\n",
    "I promise to be true to you in good times and in bad, in sickness and in health.\\\n",
    "I will love you and honour you all the days of my life.'''\n",
    "\n",
    "statement.replace('Monica', 'Rachel')"
   ]
  },
  {
   "cell_type": "code",
   "execution_count": null,
   "metadata": {},
   "outputs": [],
   "source": []
  }
 ],
 "metadata": {
  "kernelspec": {
   "display_name": "Python 3",
   "language": "python",
   "name": "python3"
  },
  "language_info": {
   "codemirror_mode": {
    "name": "ipython",
    "version": 3
   },
   "file_extension": ".py",
   "mimetype": "text/x-python",
   "name": "python",
   "nbconvert_exporter": "python",
   "pygments_lexer": "ipython3",
   "version": "3.8.3"
  }
 },
 "nbformat": 4,
 "nbformat_minor": 2
}
